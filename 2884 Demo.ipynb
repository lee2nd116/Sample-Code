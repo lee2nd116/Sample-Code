{
 "cells": [
  {
   "cell_type": "code",
   "execution_count": null,
   "metadata": {},
   "outputs": [],
   "source": [
    "import xlwings as xw\n",
    "\n",
    "wb = xw.Book(r\"Demo.xlsx\")\n",
    "wb"
   ]
  },
  {
   "cell_type": "code",
   "execution_count": null,
   "metadata": {},
   "outputs": [],
   "source": [
    "watch_list = wb.sheets[\"觀察清單\"]\n",
    "watch_list"
   ]
  },
  {
   "cell_type": "code",
   "execution_count": null,
   "metadata": {},
   "outputs": [],
   "source": [
    "import requests\n",
    "def fugle_stock_crawler(stock_id, api_token):\n",
    "    payload = {\n",
    "        \"symbolId\": stock_id,\n",
    "        \"apiToken\": api_token\n",
    "    }\n",
    "\n",
    "    res = requests.get(\"https://api.fugle.tw/realtime/v0/intraday/quote\", params=payload)\n",
    "    json_data = res.json()\n",
    "\n",
    "    res1 = requests.get(\"https://api.fugle.tw/realtime/v0/intraday/meta\", params=payload)\n",
    "    json_data1 = res1.json()\n",
    "\n",
    "    return {\n",
    "        \"open\": json_data[\"data\"][\"quote\"][\"priceOpen\"][\"price\"],\n",
    "        \"high\": json_data[\"data\"][\"quote\"][\"priceHigh\"][\"price\"],\n",
    "        \"low\": json_data[\"data\"][\"quote\"][\"priceLow\"][\"price\"],\n",
    "        \"close\": json_data[\"data\"][\"quote\"][\"trade\"][\"price\"],\n",
    "        \"lastClose\": json_data1[\"data\"][\"meta\"][\"priceReference\"],\n",
    "        \"name\": json_data1[\"data\"][\"meta\"][\"nameZhTw\"]\n",
    "    }"
   ]
  },
  {
   "cell_type": "code",
   "execution_count": null,
   "metadata": {},
   "outputs": [],
   "source": [
    "api_token = watch_list.range(\"L1\").value\n",
    "stock_id = \"2884\"\n",
    "\n",
    "print(api_token)\n",
    "fugle_stock_crawler(stock_id, api_token)"
   ]
  },
  {
   "cell_type": "code",
   "execution_count": null,
   "metadata": {},
   "outputs": [],
   "source": [
    "api_token = watch_list.range(\"L1\").value\n",
    "stock_id = \"2884\"\n",
    "\n",
    "data = fugle_stock_crawler(stock_id, api_token)\n",
    "\n",
    "[\n",
    "    data[\"name\"],\n",
    "    data[\"open\"],\n",
    "    data[\"high\"],\n",
    "    data[\"low\"],\n",
    "    data[\"close\"],\n",
    "    data[\"lastClose\"]\n",
    "]"
   ]
  },
  {
   "cell_type": "code",
   "execution_count": null,
   "metadata": {},
   "outputs": [],
   "source": [
    "api_token = watch_list.range(\"L1\").value\n",
    "stock_id = \"2884\"\n",
    "\n",
    "data = fugle_stock_crawler(stock_id, api_token)\n",
    "\n",
    "watch_list.range(\"B2\").value = [data[\"name\"],data[\"open\"],data[\"high\"],data[\"low\"],data[\"close\"],data[\"lastClose\"]]"
   ]
  },
  {
   "cell_type": "code",
   "execution_count": null,
   "metadata": {},
   "outputs": [],
   "source": [
    "import requests\n",
    "import numpy as np\n",
    "\n",
    "def get_chart_data(stock_id, api_token):\n",
    "    payload = {\n",
    "        \"symbolId\": stock_id,\n",
    "        \"apiToken\": api_token\n",
    "    }\n",
    "\n",
    "    res = requests.get(\"https://api.fugle.tw/realtime/v0/intraday/chart\", params=payload)\n",
    "\n",
    "    result = res.json()\n",
    "\n",
    "    price_open = []\n",
    "    price_high = []\n",
    "    price_low = []\n",
    "    price_close = []\n",
    "    unit = []\n",
    "    volume = []\n",
    "\n",
    "    time_idx = result[\"data\"][\"chart\"].keys()\n",
    "\n",
    "    for time in time_idx:\n",
    "        data = result[\"data\"][\"chart\"]\n",
    "        price_open.append(data[time][\"open\"])\n",
    "        price_high.append(data[time][\"high\"])\n",
    "        price_low.append(data[time][\"low\"])\n",
    "        price_close.append(data[time][\"close\"])\n",
    "        unit.append(data[time][\"unit\"])\n",
    "        volume.append(data[time][\"volume\"])\n",
    "\n",
    "    real_time_data = [list(time_idx), price_open,price_high,price_low,price_close,unit,volume]\n",
    "    stock_data_ary = np.array(real_time_data)\n",
    "    \n",
    "    return stock_data_ary.T"
   ]
  },
  {
   "cell_type": "code",
   "execution_count": null,
   "metadata": {},
   "outputs": [],
   "source": [
    "data = get_chart_data(2884, \"demo\")\n",
    "print(data)\n",
    "print(data.shape)"
   ]
  },
  {
   "cell_type": "code",
   "execution_count": null,
   "metadata": {},
   "outputs": [],
   "source": [
    "# 將 TW2884 存入 target_sheet\n",
    "target_sheet = wb.sheets[\"2884走勢資料\"]\n",
    "# 將二維串列的資料指定給 A2 為左上角的範圍\n",
    "target_sheet.range(\"A2\").value = get_chart_data(2884, \"demo\")"
   ]
  },
  {
   "cell_type": "code",
   "execution_count": null,
   "metadata": {},
   "outputs": [],
   "source": [
    "dashboard = wb.sheets[\"即時看板\"]\n",
    "# 將即時看板内的圖表物件都讀取出來\n",
    "dashboard.charts"
   ]
  },
  {
   "cell_type": "code",
   "execution_count": null,
   "metadata": {},
   "outputs": [],
   "source": [
    "# 選擇即時看板内名爲 chart1 的圖表，存入 chart 變數\n",
    "chart = dashboard.charts[\"chart1\"]\n",
    "chart"
   ]
  },
  {
   "cell_type": "code",
   "execution_count": null,
   "metadata": {},
   "outputs": [],
   "source": [
    "dashboard = wb.sheets[\"即時看板\"]\n",
    "target_sheet = wb.sheets[\"2884走勢資料\"]\n",
    "\n",
    "chart = dashboard.charts[\"chart1\"]\n",
    "\n",
    "last_cell = target_sheet.range(\"E1\").end(\"down\")\n",
    "# 選擇 走勢資料 上，B2 到 E267 這個範圍，\n",
    "data = target_sheet.range(f\"B2:E{last_cell.row}\")\n",
    "# 將圖表的資料設定成該範圍内的資料\n",
    "chart.set_source_data(data)\n",
    "# 最後將圖表的類別設定成 開盤-高-低-收盤股價圖\n",
    "chart.chart_type = \"stock_ohlc\""
   ]
  },
  {
   "cell_type": "code",
   "execution_count": null,
   "metadata": {},
   "outputs": [],
   "source": [
    "import time\n",
    "\n",
    "dashboard = wb.sheets[\"即時看板\"]\n",
    "\n",
    "\n",
    "# 截取即時看板上的股票代號\n",
    "stock_id = dashboard.range(\"stock1\").value\n",
    "\n",
    "# 將被讀取成浮點數的股票代號轉成字串\n",
    "if type(stock_id) == float:\n",
    "    stock_id = str(int(stock_id))\n",
    "        \n",
    "target_sheet = wb.sheets[\"2884走勢資料\"]\n",
    "\n",
    "# 呼叫函數，將截取到的圖表資料（一個二維陣列）寫入以 A2 為起點的範圍\n",
    "target_sheet.range(\"A1\").value = get_chart_data(stock_id, \"demo\")\n",
    "\n",
    "chart = dashboard.charts[\"chart1\"]\n",
    "last_cell = target_sheet.range(\"E1\").end(\"down\")\n",
    "chart.set_source_data(target_sheet.range(f\"B2:E{last_cell.row}\"))\n",
    "chart.chart_type = \"stock_ohlc\"\n",
    "# 將最後一筆收盤價寫入看板工作表\n",
    "dashboard.range(\"price1\").value = last_cell.value\n",
    "    "
   ]
  },
  {
   "cell_type": "code",
   "execution_count": null,
   "metadata": {},
   "outputs": [],
   "source": [
    "condition = dashboard.range(\"condition1\").value\n",
    "limit = dashboard.range(\"limit1\").value\n",
    "price = dashboard.range(\"price1\").value\n",
    "stock_id = int(dashboard.range(\"stock1\").value)\n",
    "\n",
    "print(condition)\n",
    "print(limit)\n",
    "print(price)\n",
    "print(stock_id)"
   ]
  },
  {
   "cell_type": "code",
   "execution_count": null,
   "metadata": {},
   "outputs": [],
   "source": [
    "# 寫出條件判斷\n",
    "def check_condition(stock_id, price, condition, limit):\n",
    "    msg = \"\"\n",
    "    if condition == \"<\":\n",
    "        if price < limit:\n",
    "             msg += \"{} 的價格低於 {}\\n\".format(stock_id, limit)\n",
    "    elif condition == \">\":\n",
    "        if price > limit:\n",
    "             msg += \"{} 的價格高於 {}\\n\".format(stock_id, limit)\n",
    "    elif condition == \"=\":\n",
    "        if price == limit:\n",
    "             msg += \"{} 的價格等於 {}\\n\".format(stock_id, limit)\n",
    "    \n",
    "    return msg"
   ]
  },
  {
   "cell_type": "code",
   "execution_count": null,
   "metadata": {},
   "outputs": [],
   "source": [
    "condition = dashboard.range(\"condition1\").value\n",
    "limit = dashboard.range(\"limit1\").value\n",
    "price = dashboard.range(\"price1\").value\n",
    "stock_id = dashboard.range(\"stock1\").value\n",
    "\n",
    "check_condition(stock_id, price, condition, limit)"
   ]
  },
  {
   "cell_type": "code",
   "execution_count": null,
   "metadata": {},
   "outputs": [],
   "source": [
    "def line_notify(msg, line_token):\n",
    "    line_url = \"https://notify-api.line.me/api/notify\"\n",
    "    line_token = \"Y3PNDgDPkCCMPU6XikKEz9X4S9juY7YtDKFmciMCx4R\"\n",
    "  \n",
    "    headers = {\n",
    "            \"Authorization\": \"Bearer \" + line_token, \n",
    "            \"Content-Type\" : \"application/x-www-form-urlencoded\"\n",
    "        }\n",
    "\n",
    "    payload = {'message': msg}\n",
    "    r = requests.post(line_url, headers = headers, params = payload)\n",
    "    return r"
   ]
  },
  {
   "cell_type": "code",
   "execution_count": null,
   "metadata": {},
   "outputs": [],
   "source": [
    "import time\n",
    "\n",
    "dashboard = wb.sheets[\"即時看板\"]\n",
    "\n",
    "fugle_token = wb.sheets[\"觀察清單\"].range(\"L1\").value\n",
    "line_token = wb.sheets[\"觀察清單\"].range(\"L3\").value\n",
    "\n",
    "line_report = \"Nielsen及時股價看板：\\n\\n\"\n",
    "# 截取即時看板上的股票代號\n",
    "stock_id = dashboard.range(\"stock1\").value\n",
    "\n",
    "# 將被讀取成浮點數的股票代號轉成字串\n",
    "if type(stock_id) == float:\n",
    "    stock_id = str(int(stock_id))\n",
    "\n",
    "target_sheet = wb.sheets[\"2884走勢資料\"]\n",
    "\n",
    "# 呼叫函數，將截取到的圖表資料（一個二維陣列）寫入以 A2 為起點的範圍\n",
    "target_sheet.range(\"A2\").value = get_chart_data(stock_id, fugle_token)\n",
    "# 選擇即時看板的圖表物件\n",
    "chart = dashboard.charts[\"chart1\"]\n",
    "last_cell = target_sheet.range(\"E1\").end(\"down\")\n",
    "# 將圖表物件的資料來源設定成範圍 B2:GN\n",
    "chart.set_source_data(target_sheet.range(f\"B2:E{last_cell.row}\"))\n",
    "# 將圖表類型設定成 ohlc（開盤-高-低-收盤股價圖）\n",
    "chart.chart_type = \"stock_ohlc\"\n",
    "# 將最後一筆收盤價寫入看板工作表\n",
    "dashboard.range(\"price1\").value = last_cell.value\n",
    "# 讀取觸發 Line 通知的比較條件\n",
    "condition = dashboard.range(\"condition1\").value\n",
    "limit = dashboard.range(\"limit1\").value\n",
    "price = dashboard.range(\"price1\").value\n",
    "# 檢查是否符合觸發 Line 通知，產生 Line 訊息的字串\n",
    "line_report += check_condition(stock_id, price, condition, limit)\n",
    "\n",
    "# 發送 Line 訊息\n",
    "line_notify(line_report, line_token)\n"
   ]
  }
 ],
 "metadata": {
  "kernelspec": {
   "display_name": "Python 3",
   "language": "python",
   "name": "python3"
  },
  "language_info": {
   "codemirror_mode": {
    "name": "ipython",
    "version": 3
   },
   "file_extension": ".py",
   "mimetype": "text/x-python",
   "name": "python",
   "nbconvert_exporter": "python",
   "pygments_lexer": "ipython3",
   "version": "3.7.6"
  }
 },
 "nbformat": 4,
 "nbformat_minor": 4
}
