{
 "cells": [
  {
   "cell_type": "code",
   "execution_count": 1,
   "metadata": {},
   "outputs": [],
   "source": [
    "import googletrans\n",
    "import tkinter as tk\n",
    "import pandas as pd\n",
    "from tkinter import filedialog as fd\n",
    "import datetime\n",
    "\n",
    "\n",
    "window = tk.Tk()\n",
    "window.title('Datamap Translation')\n",
    "window.geometry('300x250')\n",
    "window.configure(background='white')\n",
    "\n",
    "def translation():\n",
    "    \n",
    "    #開始測量\n",
    "    start = datetime.datetime.now()\n",
    "            \n",
    "    files=fd.askopenfilenames()\n",
    "    df = pd.read_excel('%s' % (files))\n",
    "\n",
    "    translator = googletrans.Translator()\n",
    "    \n",
    "    df_final = df.copy()\n",
    "       \n",
    "    df_final['Answer Label Translation'] = df_final['Answer Label'].fillna('')  \n",
    "    df_final['Answer Label Translation'] = df_final['Answer Label Translation'].apply(translator.translate,raw=True).apply(getattr, args=('text',))\n",
    " \n",
    "    df_final.to_excel('Output.xls')\n",
    "    \n",
    "    end = datetime.datetime.now()\n",
    "    duration = end - start\n",
    "    result = '你執行時間：{}'.format(duration)\n",
    "    result_label.configure(text=result)\n",
    "\n",
    "       \n",
    "header_label = tk.Label(window, text='Datamap翻譯器')\n",
    "header_label.pack(pady=30)\n",
    "\n",
    "\n",
    "result_label = tk.Label(window)\n",
    "result_label.pack()\n",
    "\n",
    "calculate_btn = tk.Button(window, text='翻譯', command=translation)\n",
    "calculate_btn.pack(side='top')\n",
    "tk.Button(window, text=\"離開\", command=window.destroy).pack()\n",
    "\n",
    "window.mainloop()\n"
   ]
  }
 ],
 "metadata": {
  "kernelspec": {
   "display_name": "Python 3",
   "language": "python",
   "name": "python3"
  },
  "language_info": {
   "codemirror_mode": {
    "name": "ipython",
    "version": 3
   },
   "file_extension": ".py",
   "mimetype": "text/x-python",
   "name": "python",
   "nbconvert_exporter": "python",
   "pygments_lexer": "ipython3",
   "version": "3.7.4"
  },
  "toc": {
   "base_numbering": 1,
   "nav_menu": {},
   "number_sections": true,
   "sideBar": true,
   "skip_h1_title": false,
   "title_cell": "Table of Contents",
   "title_sidebar": "Contents",
   "toc_cell": false,
   "toc_position": {},
   "toc_section_display": true,
   "toc_window_display": false
  }
 },
 "nbformat": 4,
 "nbformat_minor": 4
}
