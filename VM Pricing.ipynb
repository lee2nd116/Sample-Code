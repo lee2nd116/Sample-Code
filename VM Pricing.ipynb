{
 "cells": [
  {
   "cell_type": "code",
   "execution_count": null,
   "metadata": {},
   "outputs": [],
   "source": [
    "instances = [10, 25, 50, 100, 500]\n",
    "price = [27.32, 23.13, 21.25, 18.00, 15.50]\n",
    "\n",
    "n = int(input())\n",
    "\n",
    "x1 = 0\n",
    "x2 = 0\n",
    "y1 = 0\n",
    "y2 = 0\n",
    "\n",
    "for i in range(5):\n",
    "\n",
    "    if n < instances[0]:\n",
    "        x1 = instances[0]\n",
    "        x2 = instances[1]\n",
    "        y1 = price[0]\n",
    "        y2 = price[1]   \n",
    "        break\n",
    "        \n",
    "    elif n > instances[-1]:\n",
    "        x1 = instances[-2]\n",
    "        x2 = instances[-1]\n",
    "        y1 = price[-2]\n",
    "        y2 = price[-1]    \n",
    "        break\n",
    "        \n",
    "    elif n == instances[i]: \n",
    "        print(price[i])\n",
    "        \n",
    "    if n > instances_lst[i] and n < instances_lst[i+1]:\n",
    "        x1 = instances[i]\n",
    "        x2 = instances[i+1]     \n",
    "        y1 = price[i]\n",
    "        y2 = price[i+1] \n",
    "        \n",
    "if n not in instances:         \n",
    "    #y=ax+b\n",
    "    a = (y2-y1)/(x2-x1)\n",
    "    b = y2 - a*x2\n",
    "\n",
    "    answer = a * n + b\n",
    "    print(answer)"
   ]
  }
 ],
 "metadata": {
  "kernelspec": {
   "display_name": "Python 3",
   "language": "python",
   "name": "python3"
  },
  "language_info": {
   "codemirror_mode": {
    "name": "ipython",
    "version": 3
   },
   "file_extension": ".py",
   "mimetype": "text/x-python",
   "name": "python",
   "nbconvert_exporter": "python",
   "pygments_lexer": "ipython3",
   "version": "3.7.7"
  }
 },
 "nbformat": 4,
 "nbformat_minor": 4
}
