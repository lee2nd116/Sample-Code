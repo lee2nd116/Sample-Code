{
 "cells": [
  {
   "cell_type": "markdown",
   "metadata": {},
   "source": [
    "# 松菸文創誠品電影爬蟲\n",
    "\n",
    "1. 將目前電影院可以訂票的電影名稱、日期、時段利用爬蟲爬出來\n",
    "2. 利用 xlwings 套件，將其輸出成結構化的 excel 表單"
   ]
  },
  {
   "cell_type": "code",
   "execution_count": null,
   "metadata": {},
   "outputs": [],
   "source": [
    "from bs4 import BeautifulSoup\n",
    "import requests\n",
    "import xlwings as xw\n",
    "\n",
    "doc = requests.get('https://meet.eslite.com/tw/tc/gallery/movieschedule/201803020001')\n",
    "html = BeautifulSoup(doc.text, 'html.parser')\n",
    "\n",
    "app = xw.App(visible=True)\n",
    "wb = app.books('活頁簿1')\n",
    "sheet = wb.sheets[0]\n",
    "\n",
    "x = 1\n",
    "while 1:\n",
    "    try:\n",
    "        table = html.findAll(text='電影介紹')[x].parent.parent.parent.parent\n",
    "\n",
    "        lilength = len(table.select('li'))\n",
    "        plength = len(table.select('p'))\n",
    "        last_row = lilength + plength\n",
    "        Column = int((x/2)+1)\n",
    "\n",
    "        MovieName = table.select('p')[0].text\n",
    "        sheet.range((1,Column)).value = MovieName\n",
    "        \n",
    "        for i in range(0,3):\n",
    "            MovieInfo = table.select('li')[i].text\n",
    "            sheet.range((i+2,Column)).value = MovieInfo\n",
    "            \n",
    "        for j in range(1,plength):\n",
    "            MovieDate = table.select('p')[j].text\n",
    "            sheet.range((j+4,Column)).value = MovieDate\n",
    "\n",
    "        for k in range(3,lilength):\n",
    "            MovieTime = table.select('li')[k].text\n",
    "            sheet.range((plength+1+k,Column)).value = MovieTime\n",
    "\n",
    "    except:\n",
    "        break\n",
    "    x+=2"
   ]
  }
 ],
 "metadata": {
  "kernelspec": {
   "display_name": "Python 3",
   "language": "python",
   "name": "python3"
  },
  "language_info": {
   "codemirror_mode": {
    "name": "ipython",
    "version": 3
   },
   "file_extension": ".py",
   "mimetype": "text/x-python",
   "name": "python",
   "nbconvert_exporter": "python",
   "pygments_lexer": "ipython3",
   "version": "3.7.7"
  }
 },
 "nbformat": 4,
 "nbformat_minor": 4
}
